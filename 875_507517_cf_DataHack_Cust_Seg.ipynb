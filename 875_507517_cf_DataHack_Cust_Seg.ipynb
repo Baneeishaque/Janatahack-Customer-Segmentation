{
  "nbformat": 4,
  "nbformat_minor": 0,
  "metadata": {
    "colab": {
      "name": "875_507517_cf_DataHack_Cust_Seg.ipynb",
      "provenance": [],
      "collapsed_sections": [],
      "toc_visible": true
    },
    "kernelspec": {
      "name": "python3",
      "display_name": "Python 3"
    },
    "accelerator": "GPU"
  },
  "cells": [
    {
      "cell_type": "code",
      "metadata": {
        "id": "IqJ0RIhgZ5-r"
      },
      "source": [
        "import pandas as pd\n",
        "import numpy as np\n",
        "import matplotlib.pyplot as plt"
      ],
      "execution_count": 18,
      "outputs": []
    },
    {
      "cell_type": "code",
      "metadata": {
        "id": "aVXV5K9taabB"
      },
      "source": [
        "train = pd.read_csv('train.csv')\n",
        "test = pd.read_csv('test.csv')\n",
        "sample = pd.read_csv('sample_submission.csv')"
      ],
      "execution_count": 19,
      "outputs": []
    },
    {
      "cell_type": "code",
      "metadata": {
        "id": "igRCjRCTczXG"
      },
      "source": [
        "train_target = train['Segmentation']\n",
        "train = train.drop(['Segmentation'], axis=1)"
      ],
      "execution_count": 20,
      "outputs": []
    },
    {
      "cell_type": "code",
      "metadata": {
        "id": "S8U9OvejawCb",
        "colab": {
          "base_uri": "https://localhost:8080/"
        },
        "outputId": "999dc434-dd0c-41c5-f793-f23ad5633b49"
      },
      "source": [
        "print(train.shape)\n",
        "print(test.shape)"
      ],
      "execution_count": 21,
      "outputs": [
        {
          "output_type": "stream",
          "text": [
            "(8068, 10)\n",
            "(2627, 10)\n"
          ],
          "name": "stdout"
        }
      ]
    },
    {
      "cell_type": "code",
      "metadata": {
        "id": "nWYrrh_Ea0B3",
        "colab": {
          "base_uri": "https://localhost:8080/",
          "height": 111
        },
        "outputId": "d5f5de1b-a12c-4fbe-8696-93fe12f9c028"
      },
      "source": [
        "train.head(2)"
      ],
      "execution_count": 22,
      "outputs": [
        {
          "output_type": "execute_result",
          "data": {
            "text/html": [
              "<div>\n",
              "<style scoped>\n",
              "    .dataframe tbody tr th:only-of-type {\n",
              "        vertical-align: middle;\n",
              "    }\n",
              "\n",
              "    .dataframe tbody tr th {\n",
              "        vertical-align: top;\n",
              "    }\n",
              "\n",
              "    .dataframe thead th {\n",
              "        text-align: right;\n",
              "    }\n",
              "</style>\n",
              "<table border=\"1\" class=\"dataframe\">\n",
              "  <thead>\n",
              "    <tr style=\"text-align: right;\">\n",
              "      <th></th>\n",
              "      <th>ID</th>\n",
              "      <th>Gender</th>\n",
              "      <th>Ever_Married</th>\n",
              "      <th>Age</th>\n",
              "      <th>Graduated</th>\n",
              "      <th>Profession</th>\n",
              "      <th>Work_Experience</th>\n",
              "      <th>Spending_Score</th>\n",
              "      <th>Family_Size</th>\n",
              "      <th>Var_1</th>\n",
              "    </tr>\n",
              "  </thead>\n",
              "  <tbody>\n",
              "    <tr>\n",
              "      <th>0</th>\n",
              "      <td>462809</td>\n",
              "      <td>Male</td>\n",
              "      <td>No</td>\n",
              "      <td>22</td>\n",
              "      <td>No</td>\n",
              "      <td>Healthcare</td>\n",
              "      <td>1.0</td>\n",
              "      <td>Low</td>\n",
              "      <td>4.0</td>\n",
              "      <td>Cat_4</td>\n",
              "    </tr>\n",
              "    <tr>\n",
              "      <th>1</th>\n",
              "      <td>462643</td>\n",
              "      <td>Female</td>\n",
              "      <td>Yes</td>\n",
              "      <td>38</td>\n",
              "      <td>Yes</td>\n",
              "      <td>Engineer</td>\n",
              "      <td>NaN</td>\n",
              "      <td>Average</td>\n",
              "      <td>3.0</td>\n",
              "      <td>Cat_4</td>\n",
              "    </tr>\n",
              "  </tbody>\n",
              "</table>\n",
              "</div>"
            ],
            "text/plain": [
              "       ID  Gender Ever_Married  ...  Spending_Score Family_Size  Var_1\n",
              "0  462809    Male           No  ...             Low         4.0  Cat_4\n",
              "1  462643  Female          Yes  ...         Average         3.0  Cat_4\n",
              "\n",
              "[2 rows x 10 columns]"
            ]
          },
          "metadata": {
            "tags": []
          },
          "execution_count": 22
        }
      ]
    },
    {
      "cell_type": "code",
      "metadata": {
        "id": "fgYLzD4RT_C4",
        "colab": {
          "base_uri": "https://localhost:8080/"
        },
        "outputId": "07a77edc-c256-4a38-f5a2-0d2073b7107f"
      },
      "source": [
        "train.dtypes"
      ],
      "execution_count": 23,
      "outputs": [
        {
          "output_type": "execute_result",
          "data": {
            "text/plain": [
              "ID                   int64\n",
              "Gender              object\n",
              "Ever_Married        object\n",
              "Age                  int64\n",
              "Graduated           object\n",
              "Profession          object\n",
              "Work_Experience    float64\n",
              "Spending_Score      object\n",
              "Family_Size        float64\n",
              "Var_1               object\n",
              "dtype: object"
            ]
          },
          "metadata": {
            "tags": []
          },
          "execution_count": 23
        }
      ]
    },
    {
      "cell_type": "code",
      "metadata": {
        "id": "ZCkL04__T1wp",
        "colab": {
          "base_uri": "https://localhost:8080/"
        },
        "outputId": "d41834ad-16e1-4170-a812-555bbce94223"
      },
      "source": [
        "train.nunique()"
      ],
      "execution_count": 24,
      "outputs": [
        {
          "output_type": "execute_result",
          "data": {
            "text/plain": [
              "ID                 8068\n",
              "Gender                2\n",
              "Ever_Married          2\n",
              "Age                  67\n",
              "Graduated             2\n",
              "Profession            9\n",
              "Work_Experience      15\n",
              "Spending_Score        3\n",
              "Family_Size           9\n",
              "Var_1                 7\n",
              "dtype: int64"
            ]
          },
          "metadata": {
            "tags": []
          },
          "execution_count": 24
        }
      ]
    },
    {
      "cell_type": "code",
      "metadata": {
        "id": "sqcmAH8bVMPI"
      },
      "source": [
        "train.Var_1.fillna('Cat_10', inplace=True)\n",
        "train.Var_1 = train['Var_1'].apply(lambda x:int(str(x).split('_')[1]))\n",
        "\n",
        "test.Var_1.fillna('Cat_10', inplace=True)\n",
        "test.Var_1 = test['Var_1'].apply(lambda x:int(str(x).split('_')[1]))"
      ],
      "execution_count": 25,
      "outputs": []
    },
    {
      "cell_type": "code",
      "metadata": {
        "id": "n8y1bFwlUMnB"
      },
      "source": [
        "Profession = {\n",
        "    'Healthcare':0,\n",
        "    'Engineer':1,\n",
        "    'Lawyer':2,\n",
        "    'Entertainment':3,\n",
        "    'Artist':4,\n",
        "    'Executive':5,\n",
        "    'Doctor':6,\n",
        "    'Homemaker':7,\n",
        "    'Marketing':8,\n",
        "    np.nan:10\n",
        "}\n",
        "Gender = {\n",
        "    'Male':0,\n",
        "    'Female':1,\n",
        "    np.nan:10\n",
        "}\n",
        "Ever_Married = {\n",
        "    'Yes':0,\n",
        "    'No':1,\n",
        "    np.nan:10\n",
        "}\n",
        "Graduated = {\n",
        "    'Yes':0,\n",
        "    'No':1,\n",
        "    np.nan:10\n",
        "}\n",
        "Spending_Score = {\n",
        "    'Low':0,\n",
        "    'Average':1,\n",
        "    'High':2,\n",
        "    np.nan:10\n",
        "}\n",
        "to_change = [Gender, Ever_Married, Graduated, Spending_Score, Profession] \n",
        "\n",
        "for i in to_change:\n",
        "  train = train.replace(i)\n",
        "  test = test.replace(i)"
      ],
      "execution_count": 26,
      "outputs": []
    },
    {
      "cell_type": "code",
      "metadata": {
        "id": "Y2NZ2DfrXV9i",
        "colab": {
          "base_uri": "https://localhost:8080/"
        },
        "outputId": "b22da00e-4694-42e5-90f1-bf32e9249ed7"
      },
      "source": [
        "train.nunique()"
      ],
      "execution_count": 27,
      "outputs": [
        {
          "output_type": "execute_result",
          "data": {
            "text/plain": [
              "ID                 8068\n",
              "Gender                2\n",
              "Ever_Married          3\n",
              "Age                  67\n",
              "Graduated             3\n",
              "Profession           10\n",
              "Work_Experience      15\n",
              "Spending_Score        3\n",
              "Family_Size          10\n",
              "Var_1                 8\n",
              "dtype: int64"
            ]
          },
          "metadata": {
            "tags": []
          },
          "execution_count": 27
        }
      ]
    },
    {
      "cell_type": "code",
      "metadata": {
        "id": "gC8vEim-XWAl",
        "colab": {
          "base_uri": "https://localhost:8080/"
        },
        "outputId": "ddf9f18f-55ba-4b96-f3e7-e396f8919fea"
      },
      "source": [
        "train.dtypes"
      ],
      "execution_count": 28,
      "outputs": [
        {
          "output_type": "execute_result",
          "data": {
            "text/plain": [
              "ID                   int64\n",
              "Gender               int64\n",
              "Ever_Married         int64\n",
              "Age                  int64\n",
              "Graduated            int64\n",
              "Profession           int64\n",
              "Work_Experience    float64\n",
              "Spending_Score       int64\n",
              "Family_Size        float64\n",
              "Var_1                int64\n",
              "dtype: object"
            ]
          },
          "metadata": {
            "tags": []
          },
          "execution_count": 28
        }
      ]
    },
    {
      "cell_type": "code",
      "metadata": {
        "id": "zZTPsIXl7zk5"
      },
      "source": [
        "# train_target = train_target.replace(\n",
        "#     {\n",
        "#         'A':0,\n",
        "#         'B':1,\n",
        "#         'C':2,\n",
        "#         'D':3\n",
        "#     }\n",
        "# )"
      ],
      "execution_count": 29,
      "outputs": []
    },
    {
      "cell_type": "markdown",
      "metadata": {
        "id": "fHG8FIODmQoR"
      },
      "source": [
        "# Missing Value Analysis"
      ]
    },
    {
      "cell_type": "code",
      "metadata": {
        "id": "eFpWnhtImZuS",
        "colab": {
          "base_uri": "https://localhost:8080/"
        },
        "outputId": "c46dd180-36f3-4c09-de1b-df778fd89dd3"
      },
      "source": [
        "train.isna().sum()"
      ],
      "execution_count": 30,
      "outputs": [
        {
          "output_type": "execute_result",
          "data": {
            "text/plain": [
              "ID                 0\n",
              "Gender             0\n",
              "Ever_Married       0\n",
              "Age                0\n",
              "Graduated          0\n",
              "Profession         0\n",
              "Work_Experience    0\n",
              "Spending_Score     0\n",
              "Family_Size        0\n",
              "Var_1              0\n",
              "dtype: int64"
            ]
          },
          "metadata": {
            "tags": []
          },
          "execution_count": 30
        }
      ]
    },
    {
      "cell_type": "code",
      "metadata": {
        "id": "PVE3UNCXmaEK",
        "colab": {
          "base_uri": "https://localhost:8080/"
        },
        "outputId": "8a5ae19f-350e-4587-d22e-0f98e449d9a0"
      },
      "source": [
        "test.isna().sum()"
      ],
      "execution_count": 31,
      "outputs": [
        {
          "output_type": "execute_result",
          "data": {
            "text/plain": [
              "ID                 0\n",
              "Gender             0\n",
              "Ever_Married       0\n",
              "Age                0\n",
              "Graduated          0\n",
              "Profession         0\n",
              "Work_Experience    0\n",
              "Spending_Score     0\n",
              "Family_Size        0\n",
              "Var_1              0\n",
              "dtype: int64"
            ]
          },
          "metadata": {
            "tags": []
          },
          "execution_count": 31
        }
      ]
    },
    {
      "cell_type": "code",
      "metadata": {
        "id": "mvJPrYPkGUFm"
      },
      "source": [
        "train = train.replace({10:np.nan})\n",
        "test = test.replace({10:np.nan})"
      ],
      "execution_count": 32,
      "outputs": []
    },
    {
      "cell_type": "code",
      "metadata": {
        "id": "-PcYoXf1mZ3B",
        "colab": {
          "base_uri": "https://localhost:8080/"
        },
        "outputId": "65523210-a756-443a-f05e-89c6367a22bf"
      },
      "source": [
        "from fancyimpute import KNN\n",
        "train = pd.DataFrame(KNN(k = 3).fit_transform(train), columns = test.columns)\n",
        "test = pd.DataFrame(KNN(k = 3).fit_transform(test), columns = test.columns)"
      ],
      "execution_count": 33,
      "outputs": [
        {
          "output_type": "stream",
          "text": [
            "Imputing row 1/8068 with 0 missing, elapsed time: 9.766\n",
            "Imputing row 101/8068 with 0 missing, elapsed time: 9.768\n",
            "Imputing row 201/8068 with 0 missing, elapsed time: 9.769\n",
            "Imputing row 301/8068 with 1 missing, elapsed time: 9.770\n",
            "Imputing row 401/8068 with 0 missing, elapsed time: 9.772\n",
            "Imputing row 501/8068 with 0 missing, elapsed time: 9.773\n",
            "Imputing row 601/8068 with 0 missing, elapsed time: 9.774\n",
            "Imputing row 701/8068 with 0 missing, elapsed time: 9.776\n",
            "Imputing row 801/8068 with 0 missing, elapsed time: 9.777\n",
            "Imputing row 901/8068 with 0 missing, elapsed time: 9.779\n",
            "Imputing row 1001/8068 with 0 missing, elapsed time: 9.780\n",
            "Imputing row 1101/8068 with 0 missing, elapsed time: 9.782\n",
            "Imputing row 1201/8068 with 0 missing, elapsed time: 9.782\n",
            "Imputing row 1301/8068 with 0 missing, elapsed time: 9.783\n",
            "Imputing row 1401/8068 with 1 missing, elapsed time: 9.785\n",
            "Imputing row 1501/8068 with 0 missing, elapsed time: 9.786\n",
            "Imputing row 1601/8068 with 1 missing, elapsed time: 9.787\n",
            "Imputing row 1701/8068 with 0 missing, elapsed time: 9.789\n",
            "Imputing row 1801/8068 with 0 missing, elapsed time: 9.790\n",
            "Imputing row 1901/8068 with 1 missing, elapsed time: 9.791\n",
            "Imputing row 2001/8068 with 1 missing, elapsed time: 9.793\n",
            "Imputing row 2101/8068 with 0 missing, elapsed time: 9.794\n",
            "Imputing row 2201/8068 with 0 missing, elapsed time: 9.795\n",
            "Imputing row 2301/8068 with 0 missing, elapsed time: 9.796\n",
            "Imputing row 2401/8068 with 0 missing, elapsed time: 9.798\n",
            "Imputing row 2501/8068 with 0 missing, elapsed time: 9.799\n",
            "Imputing row 2601/8068 with 1 missing, elapsed time: 9.800\n",
            "Imputing row 2701/8068 with 0 missing, elapsed time: 9.802\n",
            "Imputing row 2801/8068 with 0 missing, elapsed time: 9.803\n",
            "Imputing row 2901/8068 with 1 missing, elapsed time: 9.804\n",
            "Imputing row 3001/8068 with 0 missing, elapsed time: 9.806\n",
            "Imputing row 3101/8068 with 0 missing, elapsed time: 9.807\n",
            "Imputing row 3201/8068 with 0 missing, elapsed time: 9.808\n",
            "Imputing row 3301/8068 with 0 missing, elapsed time: 9.810\n",
            "Imputing row 3401/8068 with 0 missing, elapsed time: 9.811\n",
            "Imputing row 3501/8068 with 1 missing, elapsed time: 9.812\n",
            "Imputing row 3601/8068 with 0 missing, elapsed time: 9.813\n",
            "Imputing row 3701/8068 with 0 missing, elapsed time: 9.814\n",
            "Imputing row 3801/8068 with 0 missing, elapsed time: 9.816\n",
            "Imputing row 3901/8068 with 0 missing, elapsed time: 9.817\n",
            "Imputing row 4001/8068 with 0 missing, elapsed time: 9.819\n",
            "Imputing row 4101/8068 with 0 missing, elapsed time: 9.820\n",
            "Imputing row 4201/8068 with 0 missing, elapsed time: 9.821\n",
            "Imputing row 4301/8068 with 0 missing, elapsed time: 9.822\n",
            "Imputing row 4401/8068 with 0 missing, elapsed time: 9.824\n",
            "Imputing row 4501/8068 with 0 missing, elapsed time: 9.825\n",
            "Imputing row 4601/8068 with 0 missing, elapsed time: 9.827\n",
            "Imputing row 4701/8068 with 2 missing, elapsed time: 9.828\n",
            "Imputing row 4801/8068 with 0 missing, elapsed time: 9.829\n",
            "Imputing row 4901/8068 with 0 missing, elapsed time: 9.830\n",
            "Imputing row 5001/8068 with 0 missing, elapsed time: 9.831\n",
            "Imputing row 5101/8068 with 0 missing, elapsed time: 9.832\n",
            "Imputing row 5201/8068 with 0 missing, elapsed time: 9.834\n",
            "Imputing row 5301/8068 with 0 missing, elapsed time: 9.835\n",
            "Imputing row 5401/8068 with 0 missing, elapsed time: 9.836\n",
            "Imputing row 5501/8068 with 0 missing, elapsed time: 9.838\n",
            "Imputing row 5601/8068 with 1 missing, elapsed time: 9.839\n",
            "Imputing row 5701/8068 with 0 missing, elapsed time: 9.840\n",
            "Imputing row 5801/8068 with 0 missing, elapsed time: 9.842\n",
            "Imputing row 5901/8068 with 0 missing, elapsed time: 9.843\n",
            "Imputing row 6001/8068 with 0 missing, elapsed time: 9.845\n",
            "Imputing row 6101/8068 with 0 missing, elapsed time: 9.846\n",
            "Imputing row 6201/8068 with 0 missing, elapsed time: 9.847\n",
            "Imputing row 6301/8068 with 0 missing, elapsed time: 9.848\n",
            "Imputing row 6401/8068 with 0 missing, elapsed time: 9.849\n",
            "Imputing row 6501/8068 with 1 missing, elapsed time: 9.851\n",
            "Imputing row 6601/8068 with 1 missing, elapsed time: 9.852\n",
            "Imputing row 6701/8068 with 1 missing, elapsed time: 9.853\n",
            "Imputing row 6801/8068 with 0 missing, elapsed time: 9.855\n",
            "Imputing row 6901/8068 with 0 missing, elapsed time: 9.856\n",
            "Imputing row 7001/8068 with 0 missing, elapsed time: 9.857\n",
            "Imputing row 7101/8068 with 0 missing, elapsed time: 9.859\n",
            "Imputing row 7201/8068 with 0 missing, elapsed time: 9.860\n",
            "Imputing row 7301/8068 with 1 missing, elapsed time: 9.861\n",
            "Imputing row 7401/8068 with 1 missing, elapsed time: 9.863\n",
            "Imputing row 7501/8068 with 0 missing, elapsed time: 9.865\n",
            "Imputing row 7601/8068 with 0 missing, elapsed time: 9.866\n",
            "Imputing row 7701/8068 with 0 missing, elapsed time: 9.868\n",
            "Imputing row 7801/8068 with 0 missing, elapsed time: 9.869\n",
            "Imputing row 7901/8068 with 0 missing, elapsed time: 9.870\n",
            "Imputing row 8001/8068 with 0 missing, elapsed time: 9.871\n",
            "Imputing row 1/2627 with 0 missing, elapsed time: 0.838\n",
            "Imputing row 101/2627 with 0 missing, elapsed time: 0.840\n",
            "Imputing row 201/2627 with 0 missing, elapsed time: 0.841\n",
            "Imputing row 301/2627 with 0 missing, elapsed time: 0.843\n",
            "Imputing row 401/2627 with 1 missing, elapsed time: 0.844\n",
            "Imputing row 501/2627 with 1 missing, elapsed time: 0.845\n",
            "Imputing row 601/2627 with 0 missing, elapsed time: 0.846\n",
            "Imputing row 701/2627 with 0 missing, elapsed time: 0.847\n",
            "Imputing row 801/2627 with 0 missing, elapsed time: 0.848\n",
            "Imputing row 901/2627 with 0 missing, elapsed time: 0.849\n",
            "Imputing row 1001/2627 with 0 missing, elapsed time: 0.850\n",
            "Imputing row 1101/2627 with 0 missing, elapsed time: 0.850\n",
            "Imputing row 1201/2627 with 1 missing, elapsed time: 0.851\n",
            "Imputing row 1301/2627 with 0 missing, elapsed time: 0.852\n",
            "Imputing row 1401/2627 with 0 missing, elapsed time: 0.854\n",
            "Imputing row 1501/2627 with 0 missing, elapsed time: 0.854\n",
            "Imputing row 1601/2627 with 0 missing, elapsed time: 0.855\n",
            "Imputing row 1701/2627 with 0 missing, elapsed time: 0.856\n",
            "Imputing row 1801/2627 with 0 missing, elapsed time: 0.857\n",
            "Imputing row 1901/2627 with 0 missing, elapsed time: 0.858\n",
            "Imputing row 2001/2627 with 0 missing, elapsed time: 0.859\n",
            "Imputing row 2101/2627 with 2 missing, elapsed time: 0.859\n",
            "Imputing row 2201/2627 with 0 missing, elapsed time: 0.860\n",
            "Imputing row 2301/2627 with 0 missing, elapsed time: 0.861\n",
            "Imputing row 2401/2627 with 1 missing, elapsed time: 0.862\n",
            "Imputing row 2501/2627 with 1 missing, elapsed time: 0.863\n",
            "Imputing row 2601/2627 with 0 missing, elapsed time: 0.864\n"
          ],
          "name": "stdout"
        }
      ]
    },
    {
      "cell_type": "code",
      "metadata": {
        "id": "eIpExtQynSf-",
        "colab": {
          "base_uri": "https://localhost:8080/"
        },
        "outputId": "99b967e2-7b7b-430a-9b3e-8ab797b509ad"
      },
      "source": [
        "train.nunique()"
      ],
      "execution_count": 34,
      "outputs": [
        {
          "output_type": "execute_result",
          "data": {
            "text/plain": [
              "ID                 8068\n",
              "Gender                2\n",
              "Ever_Married         84\n",
              "Age                  67\n",
              "Graduated            56\n",
              "Profession          127\n",
              "Work_Experience     869\n",
              "Spending_Score        3\n",
              "Family_Size         341\n",
              "Var_1                73\n",
              "dtype: int64"
            ]
          },
          "metadata": {
            "tags": []
          },
          "execution_count": 34
        }
      ]
    },
    {
      "cell_type": "code",
      "metadata": {
        "id": "F2DbLS77fdOA"
      },
      "source": [
        "for i in train.columns:\n",
        "  train[i] = train[i].apply(lambda x: int(round(x)))\n",
        "  test[i] = test[i].apply(lambda x: int(round(x)))"
      ],
      "execution_count": 35,
      "outputs": []
    },
    {
      "cell_type": "code",
      "metadata": {
        "id": "247Gch9ZmZgU",
        "colab": {
          "base_uri": "https://localhost:8080/"
        },
        "outputId": "d1d8ae0a-aa8a-4474-c708-eba887fa26b4"
      },
      "source": [
        "train.dtypes"
      ],
      "execution_count": 36,
      "outputs": [
        {
          "output_type": "execute_result",
          "data": {
            "text/plain": [
              "ID                 int64\n",
              "Gender             int64\n",
              "Ever_Married       int64\n",
              "Age                int64\n",
              "Graduated          int64\n",
              "Profession         int64\n",
              "Work_Experience    int64\n",
              "Spending_Score     int64\n",
              "Family_Size        int64\n",
              "Var_1              int64\n",
              "dtype: object"
            ]
          },
          "metadata": {
            "tags": []
          },
          "execution_count": 36
        }
      ]
    },
    {
      "cell_type": "markdown",
      "metadata": {
        "id": "SNR05A6bdJ-c"
      },
      "source": [
        "# Model"
      ]
    },
    {
      "cell_type": "markdown",
      "metadata": {
        "id": "Kzp40lr0yQjF"
      },
      "source": [
        "### Training Data"
      ]
    },
    {
      "cell_type": "code",
      "metadata": {
        "id": "GFs-jU5wobVn",
        "colab": {
          "base_uri": "https://localhost:8080/",
          "height": 204
        },
        "outputId": "a9473049-36a5-44fd-95dc-2f6e50f72986"
      },
      "source": [
        "train.head()"
      ],
      "execution_count": 37,
      "outputs": [
        {
          "output_type": "execute_result",
          "data": {
            "text/html": [
              "<div>\n",
              "<style scoped>\n",
              "    .dataframe tbody tr th:only-of-type {\n",
              "        vertical-align: middle;\n",
              "    }\n",
              "\n",
              "    .dataframe tbody tr th {\n",
              "        vertical-align: top;\n",
              "    }\n",
              "\n",
              "    .dataframe thead th {\n",
              "        text-align: right;\n",
              "    }\n",
              "</style>\n",
              "<table border=\"1\" class=\"dataframe\">\n",
              "  <thead>\n",
              "    <tr style=\"text-align: right;\">\n",
              "      <th></th>\n",
              "      <th>ID</th>\n",
              "      <th>Gender</th>\n",
              "      <th>Ever_Married</th>\n",
              "      <th>Age</th>\n",
              "      <th>Graduated</th>\n",
              "      <th>Profession</th>\n",
              "      <th>Work_Experience</th>\n",
              "      <th>Spending_Score</th>\n",
              "      <th>Family_Size</th>\n",
              "      <th>Var_1</th>\n",
              "    </tr>\n",
              "  </thead>\n",
              "  <tbody>\n",
              "    <tr>\n",
              "      <th>0</th>\n",
              "      <td>462809</td>\n",
              "      <td>0</td>\n",
              "      <td>1</td>\n",
              "      <td>22</td>\n",
              "      <td>1</td>\n",
              "      <td>0</td>\n",
              "      <td>1</td>\n",
              "      <td>0</td>\n",
              "      <td>4</td>\n",
              "      <td>4</td>\n",
              "    </tr>\n",
              "    <tr>\n",
              "      <th>1</th>\n",
              "      <td>462643</td>\n",
              "      <td>1</td>\n",
              "      <td>0</td>\n",
              "      <td>38</td>\n",
              "      <td>0</td>\n",
              "      <td>1</td>\n",
              "      <td>5</td>\n",
              "      <td>1</td>\n",
              "      <td>3</td>\n",
              "      <td>4</td>\n",
              "    </tr>\n",
              "    <tr>\n",
              "      <th>2</th>\n",
              "      <td>466315</td>\n",
              "      <td>1</td>\n",
              "      <td>0</td>\n",
              "      <td>67</td>\n",
              "      <td>0</td>\n",
              "      <td>1</td>\n",
              "      <td>1</td>\n",
              "      <td>0</td>\n",
              "      <td>1</td>\n",
              "      <td>6</td>\n",
              "    </tr>\n",
              "    <tr>\n",
              "      <th>3</th>\n",
              "      <td>461735</td>\n",
              "      <td>0</td>\n",
              "      <td>0</td>\n",
              "      <td>67</td>\n",
              "      <td>0</td>\n",
              "      <td>2</td>\n",
              "      <td>0</td>\n",
              "      <td>2</td>\n",
              "      <td>2</td>\n",
              "      <td>6</td>\n",
              "    </tr>\n",
              "    <tr>\n",
              "      <th>4</th>\n",
              "      <td>462669</td>\n",
              "      <td>1</td>\n",
              "      <td>0</td>\n",
              "      <td>40</td>\n",
              "      <td>0</td>\n",
              "      <td>3</td>\n",
              "      <td>4</td>\n",
              "      <td>2</td>\n",
              "      <td>6</td>\n",
              "      <td>6</td>\n",
              "    </tr>\n",
              "  </tbody>\n",
              "</table>\n",
              "</div>"
            ],
            "text/plain": [
              "       ID  Gender  Ever_Married  ...  Spending_Score  Family_Size  Var_1\n",
              "0  462809       0             1  ...               0            4      4\n",
              "1  462643       1             0  ...               1            3      4\n",
              "2  466315       1             0  ...               0            1      6\n",
              "3  461735       0             0  ...               2            2      6\n",
              "4  462669       1             0  ...               2            6      6\n",
              "\n",
              "[5 rows x 10 columns]"
            ]
          },
          "metadata": {
            "tags": []
          },
          "execution_count": 37
        }
      ]
    },
    {
      "cell_type": "code",
      "metadata": {
        "id": "Wqbrvo7tK_Vs",
        "colab": {
          "base_uri": "https://localhost:8080/"
        },
        "outputId": "336a3c2b-f5ac-4f65-afa9-5ce76296b33c"
      },
      "source": [
        "train = pd.concat([train, train_target], axis=1)\n",
        "train.shape"
      ],
      "execution_count": 38,
      "outputs": [
        {
          "output_type": "execute_result",
          "data": {
            "text/plain": [
              "(8068, 11)"
            ]
          },
          "metadata": {
            "tags": []
          },
          "execution_count": 38
        }
      ]
    },
    {
      "cell_type": "code",
      "metadata": {
        "id": "DjFFaxmDyXej"
      },
      "source": [
        "# train.to_csv('train.csv',index=False)\n",
        "# test.to_csv('test.csv', index=False)"
      ],
      "execution_count": 39,
      "outputs": []
    },
    {
      "cell_type": "markdown",
      "metadata": {
        "id": "WGyU3-jJkX6-"
      },
      "source": [
        "# Analysis"
      ]
    },
    {
      "cell_type": "code",
      "metadata": {
        "id": "k_D0BYX4ka-0",
        "colab": {
          "base_uri": "https://localhost:8080/"
        },
        "outputId": "69fd93eb-6989-464e-bbed-4efd5d3f836f"
      },
      "source": [
        "train['Segmentation'].value_counts()"
      ],
      "execution_count": 40,
      "outputs": [
        {
          "output_type": "execute_result",
          "data": {
            "text/plain": [
              "D    2268\n",
              "A    1972\n",
              "C    1970\n",
              "B    1858\n",
              "Name: Segmentation, dtype: int64"
            ]
          },
          "metadata": {
            "tags": []
          },
          "execution_count": 40
        }
      ]
    },
    {
      "cell_type": "code",
      "metadata": {
        "id": "QcYm90TDckBj"
      },
      "source": [
        "from sklearn.model_selection import train_test_split\n",
        "from sklearn.metrics import accuracy_score"
      ],
      "execution_count": 41,
      "outputs": []
    },
    {
      "cell_type": "code",
      "metadata": {
        "id": "HNw3qTkUFBjL",
        "colab": {
          "base_uri": "https://localhost:8080/"
        },
        "outputId": "9a2df4e7-69a8-4bde-c082-f1db50e8a529"
      },
      "source": [
        "X = train\n",
        "X.shape"
      ],
      "execution_count": 42,
      "outputs": [
        {
          "output_type": "execute_result",
          "data": {
            "text/plain": [
              "(8068, 11)"
            ]
          },
          "metadata": {
            "tags": []
          },
          "execution_count": 42
        }
      ]
    },
    {
      "cell_type": "code",
      "metadata": {
        "id": "sXGDYCpxA69W"
      },
      "source": [
        "y = X['Segmentation']\n",
        "X = X.drop(['ID', 'Segmentation'], axis=1)\n",
        "# X = X[['Age', 'Graduated', 'Profession', 'Spending_Score']]"
      ],
      "execution_count": 43,
      "outputs": []
    },
    {
      "cell_type": "code",
      "metadata": {
        "id": "GRnUIG8IdfVh"
      },
      "source": [
        "X_train, X_test, y_train, y_test = train_test_split(X, y, test_size=0.2)"
      ],
      "execution_count": 44,
      "outputs": []
    },
    {
      "cell_type": "markdown",
      "metadata": {
        "id": "oZwLz5d2l-VZ"
      },
      "source": [
        "## XGB"
      ]
    },
    {
      "cell_type": "code",
      "metadata": {
        "id": "NHt4-x6q6kT0"
      },
      "source": [
        "from sklearn.model_selection import GridSearchCV\n",
        "from sklearn.model_selection import KFold\n",
        "from xgboost.sklearn import XGBClassifier"
      ],
      "execution_count": 45,
      "outputs": []
    },
    {
      "cell_type": "code",
      "metadata": {
        "id": "p0rvMmgF6Rx2"
      },
      "source": [
        "grid = {\n",
        "        'min_child_weight': [1, 5, 10],\n",
        "        'gamma': [0.5, 1, 1.5, 2, 5],\n",
        "        'subsample': [0.6, 0.8, 1.0],\n",
        "        'colsample_bytree': [0.6, 0.8, 1.0],\n",
        "        'max_depth': [3, 4, 5]\n",
        "        }\n",
        "kf = KFold(n_splits=2)\n",
        "\n",
        "gs = GridSearchCV(estimator = XGBClassifier(n_estimators=500), param_grid = grid, scoring='accuracy',n_jobs=4, cv=kf)"
      ],
      "execution_count": 46,
      "outputs": []
    },
    {
      "cell_type": "code",
      "metadata": {
        "id": "Wbmlreg8dkZE"
      },
      "source": [
        "gs.fit(X_train, y_train)\n",
        "\n",
        "y_pred = gs.predict(X_test)\n",
        "\n",
        "accuracy = accuracy_score(y_test, y_pred)\n",
        "print(\"Accuracy: %.2f%%\" % (accuracy * 100.0))"
      ],
      "execution_count": null,
      "outputs": []
    },
    {
      "cell_type": "code",
      "metadata": {
        "id": "FIzGT-d0Eg4H"
      },
      "source": [
        "gs.best_estimator_"
      ],
      "execution_count": null,
      "outputs": []
    },
    {
      "cell_type": "code",
      "metadata": {
        "id": "dDLVCoXtEnKQ"
      },
      "source": [
        "xgb = XGBClassifier(base_score=0.5, booster='gbtree', colsample_bylevel=1,\n",
        "              colsample_bynode=1, colsample_bytree=0.6, gamma=2,\n",
        "              learning_rate=0.1, max_delta_step=0, max_depth=4,\n",
        "              min_child_weight=1, missing=None, n_estimators=500, n_jobs=1,\n",
        "              nthread=None, objective='multi:softprob', random_state=0,\n",
        "              reg_alpha=0, reg_lambda=1, scale_pos_weight=1, seed=None,\n",
        "              silent=None, subsample=0.8, verbosity=1)"
      ],
      "execution_count": null,
      "outputs": []
    },
    {
      "cell_type": "code",
      "metadata": {
        "id": "aaX-I4Q6E93V"
      },
      "source": [
        "xgb.fit(X_train, y_train)\n",
        "\n",
        "y_pred = xgb.predict(X_test)\n",
        "\n",
        "accuracy = accuracy_score(y_test, y_pred)\n",
        "print(\"Accuracy: %.2f%%\" % (accuracy * 100.0))"
      ],
      "execution_count": null,
      "outputs": []
    },
    {
      "cell_type": "code",
      "metadata": {
        "id": "3d7q-xHcHfMf"
      },
      "source": [
        "X_train.columns"
      ],
      "execution_count": null,
      "outputs": []
    },
    {
      "cell_type": "code",
      "metadata": {
        "id": "TDAW2WZ4G0YP"
      },
      "source": [
        "xgb.feature_importances_"
      ],
      "execution_count": null,
      "outputs": []
    },
    {
      "cell_type": "markdown",
      "metadata": {
        "id": "weD2txBFmDB5"
      },
      "source": [
        "## SVM"
      ]
    },
    {
      "cell_type": "code",
      "metadata": {
        "id": "rX0MauZemDi2"
      },
      "source": [
        "from sklearn.ensemble import RandomForestClassifier\n",
        "clf_svm = RandomForestClassifier(\n",
        "    n_estimators=1000\n",
        ")\n",
        "\n",
        "clf_svm.fit(X_train, y_train)\n",
        "y_pred = clf_svm.predict(X_test)\n",
        "\n",
        "accuracy = accuracy_score(y_test, y_pred)\n",
        "print(\"Accuracy: %.2f%%\" % (accuracy * 100.0))"
      ],
      "execution_count": null,
      "outputs": []
    },
    {
      "cell_type": "markdown",
      "metadata": {
        "id": "pjo6OZtwDYN0"
      },
      "source": [
        "# Random Forest"
      ]
    },
    {
      "cell_type": "code",
      "metadata": {
        "id": "gB8FJIeZDZyp"
      },
      "source": [
        "from sklearn.ensemble import RandomForestClassifier\n",
        "clf_rf = RandomForestClassifier(\n",
        "    max_depth=2, \n",
        "    random_state=0,\n",
        "    n_estimators=500,\n",
        "    \n",
        ")\n",
        "\n",
        "clf_rf.fit(X_train, y_train)\n",
        "y_pred = clf_rf.predict(X_test)\n",
        "\n",
        "accuracy = accuracy_score(y_test, y_pred)\n",
        "print(\"Accuracy: %.2f%%\" % (accuracy * 100.0))"
      ],
      "execution_count": null,
      "outputs": []
    },
    {
      "cell_type": "markdown",
      "metadata": {
        "id": "DMo3Bbhy_0VK"
      },
      "source": [
        "# Deep Learning Model"
      ]
    },
    {
      "cell_type": "code",
      "metadata": {
        "id": "V_0Alskr_4bY"
      },
      "source": [
        "# from tensorflow.keras.layers import Dense, Dropout\n",
        "# from tensorflow.keras.models import Sequential\n",
        "# from tensorflow.keras.callbacks import EarlyStopping\n",
        "\n",
        "# callback = EarlyStopping(\n",
        "#     monitor='val_accuracy',\n",
        "#     patience=5\n",
        "# )"
      ],
      "execution_count": null,
      "outputs": []
    },
    {
      "cell_type": "code",
      "metadata": {
        "id": "8_Z9OB2L_4e_"
      },
      "source": [
        "# model = Sequential([\n",
        "#                        Dense(64,input_shape=(None, 4), activation='relu'),\n",
        "#                        Dense(128, activation='relu'),\n",
        "#                        Dense(64, activation='relu'),\n",
        "#                        Dense(4, activation='softmax'),\n",
        "# ])\n",
        "# model.compile(\n",
        "#     loss='sparse_categorical_crossentropy',\n",
        "#     optimizer='adam',\n",
        "#     metrics=['accuracy']\n",
        "# )"
      ],
      "execution_count": null,
      "outputs": []
    },
    {
      "cell_type": "code",
      "metadata": {
        "id": "2YUyUw8ydVI8"
      },
      "source": [
        "# X_train.shape"
      ],
      "execution_count": null,
      "outputs": []
    },
    {
      "cell_type": "code",
      "metadata": {
        "id": "ZFcUKbXKOwWs"
      },
      "source": [
        "# model.summary()"
      ],
      "execution_count": null,
      "outputs": []
    },
    {
      "cell_type": "code",
      "metadata": {
        "id": "58HsRsMH_4YU"
      },
      "source": [
        "# model.fit(X_train,y_train,\n",
        "#           validation_data=(X_test, y_test),\n",
        "#           epochs=100,\n",
        "#           callbacks=[callback],\n",
        "#           verbose=1\n",
        "# )"
      ],
      "execution_count": null,
      "outputs": []
    },
    {
      "cell_type": "markdown",
      "metadata": {
        "id": "KJfbsm3amD7-"
      },
      "source": [
        "# Final"
      ]
    },
    {
      "cell_type": "code",
      "metadata": {
        "id": "N3atsgRWejCc"
      },
      "source": [
        "xgb.fit(X, y)\n",
        "\n",
        "predictions = xgb.predict(test.drop(['ID'], axis=1))"
      ],
      "execution_count": null,
      "outputs": []
    },
    {
      "cell_type": "code",
      "metadata": {
        "id": "TyUzC2JwejFf"
      },
      "source": [
        "submission = pd.DataFrame({\n",
        "    'ID':test['ID'],\n",
        "    'Segmentation':predictions\n",
        "    })"
      ],
      "execution_count": null,
      "outputs": []
    },
    {
      "cell_type": "code",
      "metadata": {
        "id": "chn8yU5jp3gc"
      },
      "source": [
        "submission.reset_index(inplace=True, drop=True)"
      ],
      "execution_count": null,
      "outputs": []
    },
    {
      "cell_type": "code",
      "metadata": {
        "id": "eb3bq_GHrrTP"
      },
      "source": [
        "submission.to_csv('eighth.csv',index=False)"
      ],
      "execution_count": null,
      "outputs": []
    },
    {
      "cell_type": "code",
      "metadata": {
        "id": "8lDG-tSFsemT"
      },
      "source": [
        "df = pd.read_csv('eighth.csv')\n",
        "df.head()"
      ],
      "execution_count": null,
      "outputs": []
    },
    {
      "cell_type": "code",
      "metadata": {
        "id": "5dbwuvJWs2Ro"
      },
      "source": [
        "# submission.to_csv('/content/drive/My Drive/Data Hack/Customer Segmentation/sixth.csv', index=False)"
      ],
      "execution_count": null,
      "outputs": []
    }
  ]
}